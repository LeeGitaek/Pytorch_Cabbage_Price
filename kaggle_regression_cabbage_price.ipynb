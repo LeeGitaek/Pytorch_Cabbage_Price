{
  "nbformat": 4,
  "nbformat_minor": 0,
  "metadata": {
    "colab": {
      "name": "kaggle_regression_cabbage_price.ipynb",
      "provenance": []
    },
    "kernelspec": {
      "name": "python3",
      "display_name": "Python 3"
    }
  },
  "cells": [
    {
      "cell_type": "code",
      "metadata": {
        "id": "RZVC0Dr6ndh6",
        "colab_type": "code",
        "outputId": "ca2b1215-7f71-4926-8a17-c0d568e69739",
        "colab": {
          "base_uri": "https://localhost:8080/",
          "height": 547
        }
      },
      "source": [
        "!pip uninstall -y kaggle\n",
        "!pip install --upgrade pip\n",
        "!pip install kaggle==1.5.6\n"
      ],
      "execution_count": 1,
      "outputs": [
        {
          "output_type": "stream",
          "text": [
            "Uninstalling kaggle-1.5.6:\n",
            "  Successfully uninstalled kaggle-1.5.6\n",
            "Collecting pip\n",
            "\u001b[?25l  Downloading https://files.pythonhosted.org/packages/54/2e/df11ea7e23e7e761d484ed3740285a34e38548cf2bad2bed3dd5768ec8b9/pip-20.1-py2.py3-none-any.whl (1.5MB)\n",
            "\u001b[K     |████████████████████████████████| 1.5MB 4.7MB/s \n",
            "\u001b[?25hInstalling collected packages: pip\n",
            "  Found existing installation: pip 19.3.1\n",
            "    Uninstalling pip-19.3.1:\n",
            "      Successfully uninstalled pip-19.3.1\n",
            "Successfully installed pip-20.1\n",
            "Collecting kaggle==1.5.6\n",
            "  Downloading kaggle-1.5.6.tar.gz (58 kB)\n",
            "\u001b[K     |████████████████████████████████| 58 kB 2.7 MB/s \n",
            "\u001b[?25hRequirement already satisfied: urllib3<1.25,>=1.21.1 in /usr/local/lib/python3.6/dist-packages (from kaggle==1.5.6) (1.24.3)\n",
            "Requirement already satisfied: six>=1.10 in /usr/local/lib/python3.6/dist-packages (from kaggle==1.5.6) (1.12.0)\n",
            "Requirement already satisfied: certifi in /usr/local/lib/python3.6/dist-packages (from kaggle==1.5.6) (2020.4.5.1)\n",
            "Requirement already satisfied: python-dateutil in /usr/local/lib/python3.6/dist-packages (from kaggle==1.5.6) (2.8.1)\n",
            "Requirement already satisfied: requests in /usr/local/lib/python3.6/dist-packages (from kaggle==1.5.6) (2.23.0)\n",
            "Requirement already satisfied: tqdm in /usr/local/lib/python3.6/dist-packages (from kaggle==1.5.6) (4.38.0)\n",
            "Requirement already satisfied: python-slugify in /usr/local/lib/python3.6/dist-packages (from kaggle==1.5.6) (4.0.0)\n",
            "Requirement already satisfied: chardet<4,>=3.0.2 in /usr/local/lib/python3.6/dist-packages (from requests->kaggle==1.5.6) (3.0.4)\n",
            "Requirement already satisfied: idna<3,>=2.5 in /usr/local/lib/python3.6/dist-packages (from requests->kaggle==1.5.6) (2.9)\n",
            "Requirement already satisfied: text-unidecode>=1.3 in /usr/local/lib/python3.6/dist-packages (from python-slugify->kaggle==1.5.6) (1.3)\n",
            "Building wheels for collected packages: kaggle\n",
            "  Building wheel for kaggle (setup.py) ... \u001b[?25l\u001b[?25hdone\n",
            "  Created wheel for kaggle: filename=kaggle-1.5.6-py3-none-any.whl size=72859 sha256=982288fbf510bbf0c8283aa2751d2f0dd3ebb41dae99d0e39380875c50aa83df\n",
            "  Stored in directory: /root/.cache/pip/wheels/01/3e/ff/77407ebac3ef71a79b9166a8382aecf88415a0bcbe3c095a01\n",
            "Successfully built kaggle\n",
            "Installing collected packages: kaggle\n",
            "Successfully installed kaggle-1.5.6\n"
          ],
          "name": "stdout"
        }
      ]
    },
    {
      "cell_type": "code",
      "metadata": {
        "id": "ZyvvDe7YoZKL",
        "colab_type": "code",
        "colab": {}
      },
      "source": [
        "!mkdir -p ~/.kaggle\n",
        "!cp kaggle.json ~/.kaggle/\n",
        "!chmod 600 ~/.kaggle/kaggle.json\n"
      ],
      "execution_count": 0,
      "outputs": []
    },
    {
      "cell_type": "code",
      "metadata": {
        "id": "391OgtOZomLF",
        "colab_type": "code",
        "outputId": "cbb2af46-7d37-4b28-a4e5-14009059f34e",
        "colab": {
          "base_uri": "https://localhost:8080/",
          "height": 34
        }
      },
      "source": [
        "!kaggle -v\n"
      ],
      "execution_count": 4,
      "outputs": [
        {
          "output_type": "stream",
          "text": [
            "Kaggle API 1.5.6\n"
          ],
          "name": "stdout"
        }
      ]
    },
    {
      "cell_type": "code",
      "metadata": {
        "id": "SeBIm-3lopg3",
        "colab_type": "code",
        "outputId": "cf6ade10-10fc-4f34-bc90-cc0b260bd812",
        "colab": {
          "base_uri": "https://localhost:8080/",
          "height": 68
        }
      },
      "source": [
        "!kaggle competitions download -c regression-cabbage-price\n"
      ],
      "execution_count": 5,
      "outputs": [
        {
          "output_type": "stream",
          "text": [
            "Downloading regression-cabbage-price.zip to /content\n",
            "\r  0% 0.00/29.7k [00:00<?, ?B/s]\n",
            "\r100% 29.7k/29.7k [00:00<00:00, 24.3MB/s]\n"
          ],
          "name": "stdout"
        }
      ]
    },
    {
      "cell_type": "code",
      "metadata": {
        "id": "8-PKfEmdoxLI",
        "colab_type": "code",
        "outputId": "463a9aae-b28f-4107-df84-e30aae1fc646",
        "colab": {
          "base_uri": "https://localhost:8080/",
          "height": 85
        }
      },
      "source": [
        "!unzip regression-cabbage-price.zip\n"
      ],
      "execution_count": 6,
      "outputs": [
        {
          "output_type": "stream",
          "text": [
            "Archive:  regression-cabbage-price.zip\n",
            "  inflating: submit_sample.csv       \n",
            "  inflating: test_cabbage_price.csv  \n",
            "  inflating: train_cabbage_price.csv  \n"
          ],
          "name": "stdout"
        }
      ]
    },
    {
      "cell_type": "code",
      "metadata": {
        "id": "AsuYbs5co7Yn",
        "colab_type": "code",
        "outputId": "02dd4870-6f12-4cc5-f08d-3742c91370f7",
        "colab": {
          "base_uri": "https://localhost:8080/",
          "height": 119
        }
      },
      "source": [
        "import torch\n",
        "import torch.optim as optim \n",
        "import numpy as np \n",
        "\n",
        "torch.manual_seed(1)\n",
        "\n",
        "data = np.loadtxt('train_cabbage_price.csv',delimiter = ',',dtype=np.float32,skiprows=1,usecols=range(1,6))\n",
        "x_data = torch.from_numpy(data[:,0:-1]) #평균온도 \n",
        "y_data = torch.from_numpy(data[:,[-1]])\n",
        "\n",
        "data_test = np.loadtxt('test_cabbage_price.csv',delimiter = ',',dtype=np.float32,skiprows=1,usecols=range(1,5))\n",
        "\n",
        "test_x_data = torch.from_numpy(data_test)\n",
        " #평균온도 \n",
        "\n",
        "\n",
        "print(test_x_data)\n"
      ],
      "execution_count": 7,
      "outputs": [
        {
          "output_type": "stream",
          "text": [
            "tensor([[13.5000,  8.0000, 19.2000,  2.6000],\n",
            "        [ 1.1000, -3.0000,  9.5000,  0.8000],\n",
            "        [12.0000,  5.1000, 19.6000,  0.0000],\n",
            "        [16.6000, 11.9000, 22.5000,  0.1000],\n",
            "        [22.4000, 17.8000, 27.4000,  0.5000],\n",
            "        [18.8000, 13.9000, 24.4000,  0.0000]])\n"
          ],
          "name": "stdout"
        }
      ]
    },
    {
      "cell_type": "code",
      "metadata": {
        "id": "XDQurZulpuE7",
        "colab_type": "code",
        "outputId": "27c6a725-4d97-47d9-f4f2-c9767f56c8da",
        "colab": {
          "base_uri": "https://localhost:8080/",
          "height": 374
        }
      },
      "source": [
        "w = torch.zeros((4,1),requires_grad=True)\n",
        "b = torch.zeros(1,requires_grad=True)\n",
        "\n",
        "optimizer = optim.SGD([w,b],lr=0.000005) \n",
        "\n",
        "nb_epochs = 200000\n",
        "\n",
        "for epoch in range(nb_epochs + 1):\n",
        "    hypothesis = x_data.matmul(w)+b\n",
        "    cost = torch.mean((hypothesis-y_data) **2)\n",
        "    \n",
        "    #옵티마이저 초기화\n",
        "    optimizer.zero_grad()\n",
        "    # cost 계산 \n",
        "    cost.backward()\n",
        "    # 옵티마이저 갱신 \n",
        "    optimizer.step()\n",
        "\n",
        "    if epoch % 10000 == 0:\n",
        "      print('epoch {:4d}/{}  cost:{:.6f}'.format(\n",
        "          epoch,nb_epochs,cost.item()\n",
        "      ))\n",
        "\n",
        "\n"
      ],
      "execution_count": 46,
      "outputs": [
        {
          "output_type": "stream",
          "text": [
            "epoch    0/200000  cost:12610017.000000\n",
            "epoch 10000/200000  cost:2299145.500000\n",
            "epoch 20000/200000  cost:2271455.250000\n",
            "epoch 30000/200000  cost:2265627.250000\n",
            "epoch 40000/200000  cost:2260081.500000\n",
            "epoch 50000/200000  cost:2254620.250000\n",
            "epoch 60000/200000  cost:2249243.000000\n",
            "epoch 70000/200000  cost:2243940.000000\n",
            "epoch 80000/200000  cost:2238715.500000\n",
            "epoch 90000/200000  cost:2233548.750000\n",
            "epoch 100000/200000  cost:2228475.000000\n",
            "epoch 110000/200000  cost:2223466.750000\n",
            "epoch 120000/200000  cost:2218530.000000\n",
            "epoch 130000/200000  cost:2213662.250000\n",
            "epoch 140000/200000  cost:2208858.500000\n",
            "epoch 150000/200000  cost:2204116.500000\n",
            "epoch 160000/200000  cost:2199482.750000\n",
            "epoch 170000/200000  cost:2194890.250000\n",
            "epoch 180000/200000  cost:2190339.000000\n",
            "epoch 190000/200000  cost:2185881.250000\n",
            "epoch 200000/200000  cost:2181483.000000\n"
          ],
          "name": "stdout"
        }
      ]
    },
    {
      "cell_type": "code",
      "metadata": {
        "id": "WmlXIjnHp_bn",
        "colab_type": "code",
        "outputId": "dd797022-6f17-436b-bd58-839810838df5",
        "colab": {
          "base_uri": "https://localhost:8080/",
          "height": 34
        }
      },
      "source": [
        "x_test = torch.tensor([-2.7,-6.6,2.,0.1])\n",
        "y_val = x_test.matmul(w)+b\n",
        "print(y_val)"
      ],
      "execution_count": 47,
      "outputs": [
        {
          "output_type": "stream",
          "text": [
            "tensor([2062.4072], grad_fn=<AddBackward0>)\n"
          ],
          "name": "stdout"
        }
      ]
    },
    {
      "cell_type": "code",
      "metadata": {
        "id": "M4WaWZ1CqyNa",
        "colab_type": "code",
        "outputId": "2d597a8f-3dac-4df8-de97-89353250f1e6",
        "colab": {
          "base_uri": "https://localhost:8080/",
          "height": 119
        }
      },
      "source": [
        "prediction = test_x_data.matmul(w)+b\n",
        " # test_x_data.matmul(w)+b\n",
        "print(prediction)\n"
      ],
      "execution_count": 49,
      "outputs": [
        {
          "output_type": "stream",
          "text": [
            "tensor([[3327.5786],\n",
            "        [3256.9624],\n",
            "        [3883.9712],\n",
            "        [3295.0303],\n",
            "        [3294.5342],\n",
            "        [3332.2231]], grad_fn=<AddBackward0>)\n"
          ],
          "name": "stdout"
        }
      ]
    },
    {
      "cell_type": "code",
      "metadata": {
        "id": "cb0PHRuqr6x-",
        "colab_type": "code",
        "outputId": "522ecfa2-d769-4140-d65b-35afc95f6f3c",
        "colab": {
          "base_uri": "https://localhost:8080/",
          "height": 235
        }
      },
      "source": [
        "import pandas as pd\n",
        "\n",
        "submit = pd.read_csv('submit_sample.csv')\n",
        "submit"
      ],
      "execution_count": 50,
      "outputs": [
        {
          "output_type": "execute_result",
          "data": {
            "text/html": [
              "<div>\n",
              "<style scoped>\n",
              "    .dataframe tbody tr th:only-of-type {\n",
              "        vertical-align: middle;\n",
              "    }\n",
              "\n",
              "    .dataframe tbody tr th {\n",
              "        vertical-align: top;\n",
              "    }\n",
              "\n",
              "    .dataframe thead th {\n",
              "        text-align: right;\n",
              "    }\n",
              "</style>\n",
              "<table border=\"1\" class=\"dataframe\">\n",
              "  <thead>\n",
              "    <tr style=\"text-align: right;\">\n",
              "      <th></th>\n",
              "      <th>Id</th>\n",
              "      <th>Expected</th>\n",
              "    </tr>\n",
              "  </thead>\n",
              "  <tbody>\n",
              "    <tr>\n",
              "      <th>0</th>\n",
              "      <td>0</td>\n",
              "      <td>1000</td>\n",
              "    </tr>\n",
              "    <tr>\n",
              "      <th>1</th>\n",
              "      <td>1</td>\n",
              "      <td>1000</td>\n",
              "    </tr>\n",
              "    <tr>\n",
              "      <th>2</th>\n",
              "      <td>2</td>\n",
              "      <td>1000</td>\n",
              "    </tr>\n",
              "    <tr>\n",
              "      <th>3</th>\n",
              "      <td>3</td>\n",
              "      <td>1000</td>\n",
              "    </tr>\n",
              "    <tr>\n",
              "      <th>4</th>\n",
              "      <td>4</td>\n",
              "      <td>1000</td>\n",
              "    </tr>\n",
              "    <tr>\n",
              "      <th>5</th>\n",
              "      <td>5</td>\n",
              "      <td>1000</td>\n",
              "    </tr>\n",
              "  </tbody>\n",
              "</table>\n",
              "</div>"
            ],
            "text/plain": [
              "   Id  Expected\n",
              "0   0      1000\n",
              "1   1      1000\n",
              "2   2      1000\n",
              "3   3      1000\n",
              "4   4      1000\n",
              "5   5      1000"
            ]
          },
          "metadata": {
            "tags": []
          },
          "execution_count": 50
        }
      ]
    },
    {
      "cell_type": "code",
      "metadata": {
        "id": "NGB_4D9BsGlW",
        "colab_type": "code",
        "outputId": "30f0e823-6ca6-468b-a518-381fc70910cf",
        "colab": {
          "base_uri": "https://localhost:8080/",
          "height": 34
        }
      },
      "source": [
        "submit['Expected'][0]"
      ],
      "execution_count": 51,
      "outputs": [
        {
          "output_type": "execute_result",
          "data": {
            "text/plain": [
              "1000"
            ]
          },
          "metadata": {
            "tags": []
          },
          "execution_count": 51
        }
      ]
    },
    {
      "cell_type": "code",
      "metadata": {
        "id": "UrxYWR4WsTIT",
        "colab_type": "code",
        "outputId": "abe69366-ddf6-4cd4-f5b2-53a345748185",
        "colab": {
          "base_uri": "https://localhost:8080/",
          "height": 34
        }
      },
      "source": [
        "len(prediction)"
      ],
      "execution_count": 52,
      "outputs": [
        {
          "output_type": "execute_result",
          "data": {
            "text/plain": [
              "6"
            ]
          },
          "metadata": {
            "tags": []
          },
          "execution_count": 52
        }
      ]
    },
    {
      "cell_type": "code",
      "metadata": {
        "id": "DkbSzipNsNrM",
        "colab_type": "code",
        "colab": {}
      },
      "source": [
        "for i in range(len(prediction)):\n",
        "    submit['Expected'][i] = prediction[i].item()"
      ],
      "execution_count": 0,
      "outputs": []
    },
    {
      "cell_type": "code",
      "metadata": {
        "id": "6g8pzAJ1uc_f",
        "colab_type": "code",
        "outputId": "83288042-8180-4d04-ffc8-6c7d5bfc01da",
        "colab": {
          "base_uri": "https://localhost:8080/",
          "height": 235
        }
      },
      "source": [
        "submit"
      ],
      "execution_count": 54,
      "outputs": [
        {
          "output_type": "execute_result",
          "data": {
            "text/html": [
              "<div>\n",
              "<style scoped>\n",
              "    .dataframe tbody tr th:only-of-type {\n",
              "        vertical-align: middle;\n",
              "    }\n",
              "\n",
              "    .dataframe tbody tr th {\n",
              "        vertical-align: top;\n",
              "    }\n",
              "\n",
              "    .dataframe thead th {\n",
              "        text-align: right;\n",
              "    }\n",
              "</style>\n",
              "<table border=\"1\" class=\"dataframe\">\n",
              "  <thead>\n",
              "    <tr style=\"text-align: right;\">\n",
              "      <th></th>\n",
              "      <th>Id</th>\n",
              "      <th>Expected</th>\n",
              "    </tr>\n",
              "  </thead>\n",
              "  <tbody>\n",
              "    <tr>\n",
              "      <th>0</th>\n",
              "      <td>0</td>\n",
              "      <td>3327</td>\n",
              "    </tr>\n",
              "    <tr>\n",
              "      <th>1</th>\n",
              "      <td>1</td>\n",
              "      <td>3256</td>\n",
              "    </tr>\n",
              "    <tr>\n",
              "      <th>2</th>\n",
              "      <td>2</td>\n",
              "      <td>3883</td>\n",
              "    </tr>\n",
              "    <tr>\n",
              "      <th>3</th>\n",
              "      <td>3</td>\n",
              "      <td>3295</td>\n",
              "    </tr>\n",
              "    <tr>\n",
              "      <th>4</th>\n",
              "      <td>4</td>\n",
              "      <td>3294</td>\n",
              "    </tr>\n",
              "    <tr>\n",
              "      <th>5</th>\n",
              "      <td>5</td>\n",
              "      <td>3332</td>\n",
              "    </tr>\n",
              "  </tbody>\n",
              "</table>\n",
              "</div>"
            ],
            "text/plain": [
              "   Id  Expected\n",
              "0   0      3327\n",
              "1   1      3256\n",
              "2   2      3883\n",
              "3   3      3295\n",
              "4   4      3294\n",
              "5   5      3332"
            ]
          },
          "metadata": {
            "tags": []
          },
          "execution_count": 54
        }
      ]
    },
    {
      "cell_type": "code",
      "metadata": {
        "id": "f81QR7q8ue_t",
        "colab_type": "code",
        "colab": {}
      },
      "source": [
        "submit.to_csv('submit.csv',mode='w', index=False)"
      ],
      "execution_count": 0,
      "outputs": []
    },
    {
      "cell_type": "code",
      "metadata": {
        "id": "3p6d9omXuqZW",
        "colab_type": "code",
        "outputId": "18025b0d-1ffc-4419-8f34-624e60917044",
        "colab": {
          "base_uri": "https://localhost:8080/",
          "height": 51
        }
      },
      "source": [
        "!kaggle competitions submit -c regression-cabbage-price -f submit.csv -m \"14010974_이기택\""
      ],
      "execution_count": 57,
      "outputs": [
        {
          "output_type": "stream",
          "text": [
            "100% 54.0/54.0 [00:02<00:00, 19.0B/s]\n",
            "Successfully submitted to Regression : Cabbage price"
          ],
          "name": "stdout"
        }
      ]
    }
  ]
}