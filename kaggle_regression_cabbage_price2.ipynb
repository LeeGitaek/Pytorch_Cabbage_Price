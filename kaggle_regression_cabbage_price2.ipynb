{
  "nbformat": 4,
  "nbformat_minor": 0,
  "metadata": {
    "colab": {
      "name": "kaggle_regression_cabbage_price.ipynb",
      "provenance": []
    },
    "kernelspec": {
      "name": "python3",
      "display_name": "Python 3"
    }
  },
  "cells": [
    {
      "cell_type": "code",
      "metadata": {
        "id": "RZVC0Dr6ndh6",
        "colab_type": "code",
        "outputId": "663ef61f-a344-4b9b-c432-461d7f611762",
        "colab": {
          "base_uri": "https://localhost:8080/",
          "height": 547
        }
      },
      "source": [
        "!pip uninstall -y kaggle\n",
        "!pip install --upgrade pip\n",
        "!pip install kaggle==1.5.6\n"
      ],
      "execution_count": 3,
      "outputs": [
        {
          "output_type": "stream",
          "text": [
            "Uninstalling kaggle-1.5.6:\n",
            "  Successfully uninstalled kaggle-1.5.6\n",
            "Collecting pip\n",
            "\u001b[?25l  Downloading https://files.pythonhosted.org/packages/54/2e/df11ea7e23e7e761d484ed3740285a34e38548cf2bad2bed3dd5768ec8b9/pip-20.1-py2.py3-none-any.whl (1.5MB)\n",
            "\u001b[K     |████████████████████████████████| 1.5MB 4.8MB/s \n",
            "\u001b[?25hInstalling collected packages: pip\n",
            "  Found existing installation: pip 19.3.1\n",
            "    Uninstalling pip-19.3.1:\n",
            "      Successfully uninstalled pip-19.3.1\n",
            "Successfully installed pip-20.1\n",
            "Collecting kaggle==1.5.6\n",
            "  Downloading kaggle-1.5.6.tar.gz (58 kB)\n",
            "\u001b[K     |████████████████████████████████| 58 kB 2.7 MB/s \n",
            "\u001b[?25hRequirement already satisfied: urllib3<1.25,>=1.21.1 in /usr/local/lib/python3.6/dist-packages (from kaggle==1.5.6) (1.24.3)\n",
            "Requirement already satisfied: six>=1.10 in /usr/local/lib/python3.6/dist-packages (from kaggle==1.5.6) (1.12.0)\n",
            "Requirement already satisfied: certifi in /usr/local/lib/python3.6/dist-packages (from kaggle==1.5.6) (2020.4.5.1)\n",
            "Requirement already satisfied: python-dateutil in /usr/local/lib/python3.6/dist-packages (from kaggle==1.5.6) (2.8.1)\n",
            "Requirement already satisfied: requests in /usr/local/lib/python3.6/dist-packages (from kaggle==1.5.6) (2.23.0)\n",
            "Requirement already satisfied: tqdm in /usr/local/lib/python3.6/dist-packages (from kaggle==1.5.6) (4.38.0)\n",
            "Requirement already satisfied: python-slugify in /usr/local/lib/python3.6/dist-packages (from kaggle==1.5.6) (4.0.0)\n",
            "Requirement already satisfied: chardet<4,>=3.0.2 in /usr/local/lib/python3.6/dist-packages (from requests->kaggle==1.5.6) (3.0.4)\n",
            "Requirement already satisfied: idna<3,>=2.5 in /usr/local/lib/python3.6/dist-packages (from requests->kaggle==1.5.6) (2.9)\n",
            "Requirement already satisfied: text-unidecode>=1.3 in /usr/local/lib/python3.6/dist-packages (from python-slugify->kaggle==1.5.6) (1.3)\n",
            "Building wheels for collected packages: kaggle\n",
            "  Building wheel for kaggle (setup.py) ... \u001b[?25l\u001b[?25hdone\n",
            "  Created wheel for kaggle: filename=kaggle-1.5.6-py3-none-any.whl size=72859 sha256=a158df20891fcb4e4fcc8c1ccb3495a81857851d016020e8b18deab0bf55e5be\n",
            "  Stored in directory: /root/.cache/pip/wheels/01/3e/ff/77407ebac3ef71a79b9166a8382aecf88415a0bcbe3c095a01\n",
            "Successfully built kaggle\n",
            "Installing collected packages: kaggle\n",
            "Successfully installed kaggle-1.5.6\n"
          ],
          "name": "stdout"
        }
      ]
    },
    {
      "cell_type": "code",
      "metadata": {
        "id": "ZyvvDe7YoZKL",
        "colab_type": "code",
        "colab": {}
      },
      "source": [
        "!mkdir -p ~/.kaggle\n",
        "!cp kaggle.json ~/.kaggle/\n",
        "!chmod 600 ~/.kaggle/kaggle.json\n"
      ],
      "execution_count": 0,
      "outputs": []
    },
    {
      "cell_type": "code",
      "metadata": {
        "id": "391OgtOZomLF",
        "colab_type": "code",
        "outputId": "7455a163-b988-44de-ed42-5051bd62c85b",
        "colab": {
          "base_uri": "https://localhost:8080/",
          "height": 34
        }
      },
      "source": [
        "!kaggle -v\n"
      ],
      "execution_count": 6,
      "outputs": [
        {
          "output_type": "stream",
          "text": [
            "Kaggle API 1.5.6\n"
          ],
          "name": "stdout"
        }
      ]
    },
    {
      "cell_type": "code",
      "metadata": {
        "id": "SeBIm-3lopg3",
        "colab_type": "code",
        "outputId": "ca80589c-a9cc-4dc0-c245-28bd8b128b93",
        "colab": {
          "base_uri": "https://localhost:8080/",
          "height": 68
        }
      },
      "source": [
        "!kaggle competitions download -c regression-cabbage-price\n"
      ],
      "execution_count": 7,
      "outputs": [
        {
          "output_type": "stream",
          "text": [
            "Downloading regression-cabbage-price.zip to /content\n",
            "\r  0% 0.00/29.7k [00:00<?, ?B/s]\n",
            "\r100% 29.7k/29.7k [00:00<00:00, 24.7MB/s]\n"
          ],
          "name": "stdout"
        }
      ]
    },
    {
      "cell_type": "code",
      "metadata": {
        "id": "8-PKfEmdoxLI",
        "colab_type": "code",
        "outputId": "bcd47468-adcc-4943-92ff-26321cd0dfd6",
        "colab": {
          "base_uri": "https://localhost:8080/",
          "height": 85
        }
      },
      "source": [
        "!unzip regression-cabbage-price.zip\n"
      ],
      "execution_count": 8,
      "outputs": [
        {
          "output_type": "stream",
          "text": [
            "Archive:  regression-cabbage-price.zip\n",
            "  inflating: submit_sample.csv       \n",
            "  inflating: test_cabbage_price.csv  \n",
            "  inflating: train_cabbage_price.csv  \n"
          ],
          "name": "stdout"
        }
      ]
    },
    {
      "cell_type": "code",
      "metadata": {
        "id": "AsuYbs5co7Yn",
        "colab_type": "code",
        "outputId": "d8b7e063-f7b0-4e28-c3fc-629de0de9839",
        "colab": {
          "base_uri": "https://localhost:8080/",
          "height": 238
        }
      },
      "source": [
        "import torch\n",
        "import torch.optim as optim \n",
        "import numpy as np \n",
        "import math\n",
        "import torch.nn.functional as F\n",
        "\n",
        "\n",
        "torch.manual_seed(1)\n",
        "\n",
        "data = np.loadtxt('train_cabbage_price.csv',delimiter = ',',dtype=np.float32,skiprows=1,usecols=range(1,6))\n",
        "x_data = torch.from_numpy(data[:,1:-2]) \n",
        "y_data = torch.from_numpy(data[:,[-1]])\n",
        "\n",
        "data_test = np.loadtxt('test_cabbage_price.csv',delimiter = ',',dtype=np.float32,skiprows=1,usecols=range(1,5))\n",
        "\n",
        "test_x_data = torch.from_numpy(data_test[:,1:-1])\n",
        "\n",
        "\n",
        "\n",
        "print(x_data)\n",
        "print(test_x_data)\n"
      ],
      "execution_count": 241,
      "outputs": [
        {
          "output_type": "stream",
          "text": [
            "tensor([[-11.0000,   0.9000],\n",
            "        [ -5.5000,   5.5000],\n",
            "        [ -6.9000,   1.4000],\n",
            "        ...,\n",
            "        [ -2.1000,   8.0000],\n",
            "        [ -1.6000,   7.1000],\n",
            "        [ -2.0000,   5.8000]])\n",
            "tensor([[ 8.0000, 19.2000],\n",
            "        [-3.0000,  9.5000],\n",
            "        [ 5.1000, 19.6000],\n",
            "        [11.9000, 22.5000],\n",
            "        [17.8000, 27.4000],\n",
            "        [13.9000, 24.4000]])\n"
          ],
          "name": "stdout"
        }
      ]
    },
    {
      "cell_type": "code",
      "metadata": {
        "id": "XDQurZulpuE7",
        "colab_type": "code",
        "outputId": "e403de95-7e30-4d04-f289-fb79dd9f7d28",
        "colab": {
          "base_uri": "https://localhost:8080/",
          "height": 459
        }
      },
      "source": [
        "w = torch.zeros((2,1),requires_grad=True)\n",
        "b = torch.zeros(1,requires_grad=True)\n",
        "\n",
        "optimizer = optim.SGD([w,b],lr=0.000005,momentum=0.9) \n",
        "\n",
        "nb_epochs = 250000\n",
        "#minibatch_size = 20\n",
        "\n",
        "for epoch in range(nb_epochs + 1):\n",
        "    hypothesis = x_data.matmul(w)+b\n",
        "    cost = torch.mean((hypothesis-y_data) **2)\n",
        "    \n",
        "    #옵티마이저 초기화\n",
        "    optimizer.zero_grad()\n",
        "    # cost 계산 \n",
        "    cost.backward()\n",
        "    # 옵티마이저 갱신 \n",
        "    optimizer.step()\n",
        "\n",
        "    if epoch % 10000 == 0:\n",
        "      print('epoch {:4d}/{}  cost:{:.6f} rmse = {:.6f}'.format(\n",
        "          epoch,nb_epochs,cost.item(),math.sqrt(cost.item())\n",
        "      ))"
      ],
      "execution_count": 265,
      "outputs": [
        {
          "output_type": "stream",
          "text": [
            "epoch    0/250000  cost:12610017.000000 rmse = 3551.058575\n",
            "epoch 10000/250000  cost:2322144.500000 rmse = 1523.858425\n",
            "epoch 20000/250000  cost:2258450.500000 rmse = 1502.814193\n",
            "epoch 30000/250000  cost:2202940.750000 rmse = 1484.230693\n",
            "epoch 40000/250000  cost:2154564.250000 rmse = 1467.843401\n",
            "epoch 50000/250000  cost:2112402.750000 rmse = 1453.410730\n",
            "epoch 60000/250000  cost:2075661.375000 rmse = 1440.715577\n",
            "epoch 70000/250000  cost:2043637.500000 rmse = 1429.558498\n",
            "epoch 80000/250000  cost:2015736.000000 rmse = 1419.766178\n",
            "epoch 90000/250000  cost:1991414.375000 rmse = 1411.174821\n",
            "epoch 100000/250000  cost:1970220.000000 rmse = 1403.645254\n",
            "epoch 110000/250000  cost:1951745.000000 rmse = 1397.048675\n",
            "epoch 120000/250000  cost:1935646.500000 rmse = 1391.275135\n",
            "epoch 130000/250000  cost:1921621.000000 rmse = 1386.225451\n",
            "epoch 140000/250000  cost:1909389.000000 rmse = 1381.806426\n",
            "epoch 150000/250000  cost:1898735.000000 rmse = 1377.945935\n",
            "epoch 160000/250000  cost:1889448.875000 rmse = 1374.572252\n",
            "epoch 170000/250000  cost:1881359.125000 rmse = 1371.626452\n",
            "epoch 180000/250000  cost:1874296.250000 rmse = 1369.049396\n",
            "epoch 190000/250000  cost:1868158.625000 rmse = 1366.805994\n",
            "epoch 200000/250000  cost:1862795.875000 rmse = 1364.842802\n",
            "epoch 210000/250000  cost:1858139.500000 rmse = 1363.135907\n",
            "epoch 220000/250000  cost:1854065.500000 rmse = 1361.640738\n",
            "epoch 230000/250000  cost:1850509.875000 rmse = 1360.334472\n",
            "epoch 240000/250000  cost:1847419.375000 rmse = 1359.198063\n",
            "epoch 250000/250000  cost:1844729.375000 rmse = 1358.208149\n"
          ],
          "name": "stdout"
        }
      ]
    },
    {
      "cell_type": "code",
      "metadata": {
        "id": "WmlXIjnHp_bn",
        "colab_type": "code",
        "outputId": "6876d8db-1802-4a53-872a-a78dd21338b6",
        "colab": {
          "base_uri": "https://localhost:8080/",
          "height": 272
        }
      },
      "source": [
        "x_test = torch.tensor([-6.6,2.])\n",
        "value = x_test.matmul(w)+b\n",
        "print(value)\n",
        "y_val = x_data.matmul(w)+b\n",
        "print(y_val)\n",
        "correct_pred = y_val.float()-y_data\n",
        "print(correct_pred)\n"
      ],
      "execution_count": 266,
      "outputs": [
        {
          "output_type": "stream",
          "text": [
            "tensor([2719.7061], grad_fn=<AddBackward0>)\n",
            "tensor([[2795.6812],\n",
            "        [2899.1130],\n",
            "        [2692.5884],\n",
            "        ...,\n",
            "        [2941.9124],\n",
            "        [2870.2212],\n",
            "        [2803.3047]], grad_fn=<AddBackward0>)\n",
            "tensor([[672.6812],\n",
            "        [776.1130],\n",
            "        [569.5884],\n",
            "        ...,\n",
            "        [ 40.9124],\n",
            "        [-30.7788],\n",
            "        [-97.6953]], grad_fn=<SubBackward0>)\n"
          ],
          "name": "stdout"
        }
      ]
    },
    {
      "cell_type": "code",
      "metadata": {
        "id": "M4WaWZ1CqyNa",
        "colab_type": "code",
        "outputId": "c76e9f26-b6e6-48c1-bdab-1862c242b7f3",
        "colab": {
          "base_uri": "https://localhost:8080/",
          "height": 119
        }
      },
      "source": [
        "prediction = test_x_data.matmul(w)+b\n",
        " # test_x_data.matmul(w)+b\n",
        "print(prediction)\n"
      ],
      "execution_count": 267,
      "outputs": [
        {
          "output_type": "stream",
          "text": [
            "tensor([[3301.1978],\n",
            "        [3063.5742],\n",
            "        [3420.4817],\n",
            "        [3376.8892],\n",
            "        [3485.7180],\n",
            "        [3428.4824]], grad_fn=<AddBackward0>)\n"
          ],
          "name": "stdout"
        }
      ]
    },
    {
      "cell_type": "code",
      "metadata": {
        "id": "cb0PHRuqr6x-",
        "colab_type": "code",
        "outputId": "f7bc56a7-33f4-43ff-d4fd-44977e2bb657",
        "colab": {
          "base_uri": "https://localhost:8080/",
          "height": 235
        }
      },
      "source": [
        "import pandas as pd\n",
        "\n",
        "submit = pd.read_csv('submit_sample.csv')\n",
        "submit"
      ],
      "execution_count": 268,
      "outputs": [
        {
          "output_type": "execute_result",
          "data": {
            "text/html": [
              "<div>\n",
              "<style scoped>\n",
              "    .dataframe tbody tr th:only-of-type {\n",
              "        vertical-align: middle;\n",
              "    }\n",
              "\n",
              "    .dataframe tbody tr th {\n",
              "        vertical-align: top;\n",
              "    }\n",
              "\n",
              "    .dataframe thead th {\n",
              "        text-align: right;\n",
              "    }\n",
              "</style>\n",
              "<table border=\"1\" class=\"dataframe\">\n",
              "  <thead>\n",
              "    <tr style=\"text-align: right;\">\n",
              "      <th></th>\n",
              "      <th>Id</th>\n",
              "      <th>Expected</th>\n",
              "    </tr>\n",
              "  </thead>\n",
              "  <tbody>\n",
              "    <tr>\n",
              "      <th>0</th>\n",
              "      <td>0</td>\n",
              "      <td>1000</td>\n",
              "    </tr>\n",
              "    <tr>\n",
              "      <th>1</th>\n",
              "      <td>1</td>\n",
              "      <td>1000</td>\n",
              "    </tr>\n",
              "    <tr>\n",
              "      <th>2</th>\n",
              "      <td>2</td>\n",
              "      <td>1000</td>\n",
              "    </tr>\n",
              "    <tr>\n",
              "      <th>3</th>\n",
              "      <td>3</td>\n",
              "      <td>1000</td>\n",
              "    </tr>\n",
              "    <tr>\n",
              "      <th>4</th>\n",
              "      <td>4</td>\n",
              "      <td>1000</td>\n",
              "    </tr>\n",
              "    <tr>\n",
              "      <th>5</th>\n",
              "      <td>5</td>\n",
              "      <td>1000</td>\n",
              "    </tr>\n",
              "  </tbody>\n",
              "</table>\n",
              "</div>"
            ],
            "text/plain": [
              "   Id  Expected\n",
              "0   0      1000\n",
              "1   1      1000\n",
              "2   2      1000\n",
              "3   3      1000\n",
              "4   4      1000\n",
              "5   5      1000"
            ]
          },
          "metadata": {
            "tags": []
          },
          "execution_count": 268
        }
      ]
    },
    {
      "cell_type": "code",
      "metadata": {
        "id": "NGB_4D9BsGlW",
        "colab_type": "code",
        "outputId": "e8166f39-21cd-4590-e707-acdeed024fd2",
        "colab": {
          "base_uri": "https://localhost:8080/",
          "height": 34
        }
      },
      "source": [
        "submit['Expected'][0]"
      ],
      "execution_count": 269,
      "outputs": [
        {
          "output_type": "execute_result",
          "data": {
            "text/plain": [
              "1000"
            ]
          },
          "metadata": {
            "tags": []
          },
          "execution_count": 269
        }
      ]
    },
    {
      "cell_type": "code",
      "metadata": {
        "id": "UrxYWR4WsTIT",
        "colab_type": "code",
        "outputId": "2153663d-8ac1-4f98-9774-8545ccc2387f",
        "colab": {
          "base_uri": "https://localhost:8080/",
          "height": 34
        }
      },
      "source": [
        "len(prediction)"
      ],
      "execution_count": 270,
      "outputs": [
        {
          "output_type": "execute_result",
          "data": {
            "text/plain": [
              "6"
            ]
          },
          "metadata": {
            "tags": []
          },
          "execution_count": 270
        }
      ]
    },
    {
      "cell_type": "code",
      "metadata": {
        "id": "DkbSzipNsNrM",
        "colab_type": "code",
        "colab": {}
      },
      "source": [
        "for i in range(len(prediction)):\n",
        "    submit['Expected'][i] = prediction[i].item()"
      ],
      "execution_count": 0,
      "outputs": []
    },
    {
      "cell_type": "code",
      "metadata": {
        "id": "6g8pzAJ1uc_f",
        "colab_type": "code",
        "outputId": "5c38f285-515c-4c16-e768-fe9490dac816",
        "colab": {
          "base_uri": "https://localhost:8080/",
          "height": 235
        }
      },
      "source": [
        "submit"
      ],
      "execution_count": 274,
      "outputs": [
        {
          "output_type": "execute_result",
          "data": {
            "text/html": [
              "<div>\n",
              "<style scoped>\n",
              "    .dataframe tbody tr th:only-of-type {\n",
              "        vertical-align: middle;\n",
              "    }\n",
              "\n",
              "    .dataframe tbody tr th {\n",
              "        vertical-align: top;\n",
              "    }\n",
              "\n",
              "    .dataframe thead th {\n",
              "        text-align: right;\n",
              "    }\n",
              "</style>\n",
              "<table border=\"1\" class=\"dataframe\">\n",
              "  <thead>\n",
              "    <tr style=\"text-align: right;\">\n",
              "      <th></th>\n",
              "      <th>Id</th>\n",
              "      <th>Expected</th>\n",
              "    </tr>\n",
              "  </thead>\n",
              "  <tbody>\n",
              "    <tr>\n",
              "      <th>0</th>\n",
              "      <td>0</td>\n",
              "      <td>3301</td>\n",
              "    </tr>\n",
              "    <tr>\n",
              "      <th>1</th>\n",
              "      <td>1</td>\n",
              "      <td>3063</td>\n",
              "    </tr>\n",
              "    <tr>\n",
              "      <th>2</th>\n",
              "      <td>2</td>\n",
              "      <td>3420</td>\n",
              "    </tr>\n",
              "    <tr>\n",
              "      <th>3</th>\n",
              "      <td>3</td>\n",
              "      <td>3376</td>\n",
              "    </tr>\n",
              "    <tr>\n",
              "      <th>4</th>\n",
              "      <td>4</td>\n",
              "      <td>3485</td>\n",
              "    </tr>\n",
              "    <tr>\n",
              "      <th>5</th>\n",
              "      <td>5</td>\n",
              "      <td>3428</td>\n",
              "    </tr>\n",
              "  </tbody>\n",
              "</table>\n",
              "</div>"
            ],
            "text/plain": [
              "   Id  Expected\n",
              "0   0      3301\n",
              "1   1      3063\n",
              "2   2      3420\n",
              "3   3      3376\n",
              "4   4      3485\n",
              "5   5      3428"
            ]
          },
          "metadata": {
            "tags": []
          },
          "execution_count": 274
        }
      ]
    },
    {
      "cell_type": "code",
      "metadata": {
        "id": "f81QR7q8ue_t",
        "colab_type": "code",
        "colab": {}
      },
      "source": [
        "submit.to_csv('submit.csv',mode='w', index=False)"
      ],
      "execution_count": 0,
      "outputs": []
    },
    {
      "cell_type": "code",
      "metadata": {
        "id": "3p6d9omXuqZW",
        "colab_type": "code",
        "outputId": "49e22658-99d8-41f3-dee1-a0ddac04a70d",
        "colab": {
          "base_uri": "https://localhost:8080/",
          "height": 51
        }
      },
      "source": [
        "!kaggle competitions submit -c regression-cabbage-price -f submit.csv -m \"14010974_이기택\""
      ],
      "execution_count": 276,
      "outputs": [
        {
          "output_type": "stream",
          "text": [
            "100% 54.0/54.0 [00:02<00:00, 25.0B/s]\n",
            "403 - Your team has used its submission allowance (20 of 20). This resets at midnight UTC (17 hours from now).\n"
          ],
          "name": "stdout"
        }
      ]
    }
  ]
}