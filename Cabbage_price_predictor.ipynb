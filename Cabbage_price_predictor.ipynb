{
  "nbformat": 4,
  "nbformat_minor": 0,
  "metadata": {
    "colab": {
      "name": "Linear_Regression_HW.ipynb",
      "provenance": [],
      "collapsed_sections": []
    },
    "kernelspec": {
      "name": "python3",
      "display_name": "Python 3"
    }
  },
  "cells": [
    {
      "cell_type": "markdown",
      "metadata": {
        "id": "fK7GR2u8O2_1",
        "colab_type": "text"
      },
      "source": [
        "*선형 회귀 과제 - 배추값 예측 *\n",
        "\n",
        "[1] 데이터 로드"
      ]
    },
    {
      "cell_type": "code",
      "metadata": {
        "id": "j2vqMAKUN5bz",
        "colab_type": "code",
        "colab": {
          "base_uri": "https://localhost:8080/",
          "height": 102
        },
        "outputId": "2652e539-6b3d-449e-c9e7-67b9f5503d4b"
      },
      "source": [
        "!curl https://raw.githubusercontent.com/sejongresearch/2020.Spring.AI/master/HW/cabbage_price.csv -o cabbage_price.csv\n",
        "print('Done..\\n')"
      ],
      "execution_count": 2,
      "outputs": [
        {
          "output_type": "stream",
          "text": [
            "  % Total    % Received % Xferd  Average Speed   Time    Time     Time  Current\n",
            "                                 Dload  Upload   Total   Spent    Left  Speed\n",
            "\r  0     0    0     0    0     0      0      0 --:--:-- --:--:-- --:--:--     0\r100 93044  100 93044    0     0   348k      0 --:--:-- --:--:-- --:--:--  348k\n",
            "Done..\n",
            "\n"
          ],
          "name": "stdout"
        }
      ]
    },
    {
      "cell_type": "code",
      "metadata": {
        "id": "VHTKQtnBO_0J",
        "colab_type": "code",
        "colab": {
          "base_uri": "https://localhost:8080/",
          "height": 102
        },
        "outputId": "8ee97b24-bd9c-43da-867a-0f864a7952e6"
      },
      "source": [
        "import torch\n",
        "import torch.optim as optim \n",
        "import numpy as np \n",
        "\n",
        "torch.manual_seed(1)\n",
        "\n",
        "data = np.loadtxt('cabbage_price.csv',delimiter = ',',dtype=np.float32,skiprows=1,usecols=range(1,6))\n",
        "x1_data = data[:,0:1] #평균온도 \n",
        "x2_data = data[:,1:2] #최저온도\n",
        "x3_data = data[:,2:3] #최대온량\n",
        "x4_data = data[:,3:4] #강우량 \n",
        "y_data = data[:,[-1]]\n",
        "\n",
        "x1_train = torch.FloatTensor(x1_data[:2923])\n",
        "x2_train = torch.FloatTensor(x2_data[:2923])\n",
        "x3_train = torch.FloatTensor(x3_data[:2923])\n",
        "x4_train = torch.FloatTensor(x4_data[:2923])\n",
        "\n",
        "y_train = torch.FloatTensor(y_data[:2923])\n",
        "\n",
        "print(x1_train.shape)\n",
        "print(x2_train.shape)\n",
        "print(x3_train.shape)\n",
        "print(x4_train.shape)\n",
        "print(y_train.shape)"
      ],
      "execution_count": 3,
      "outputs": [
        {
          "output_type": "stream",
          "text": [
            "torch.Size([2922, 1])\n",
            "torch.Size([2922, 1])\n",
            "torch.Size([2922, 1])\n",
            "torch.Size([2922, 1])\n",
            "torch.Size([2922, 1])\n"
          ],
          "name": "stdout"
        }
      ]
    },
    {
      "cell_type": "markdown",
      "metadata": {
        "id": "SYTYHX1NUCNj",
        "colab_type": "text"
      },
      "source": [
        "[2] 모델 학습\n"
      ]
    },
    {
      "cell_type": "code",
      "metadata": {
        "id": "hmldQSWxUByB",
        "colab_type": "code",
        "colab": {
          "base_uri": "https://localhost:8080/",
          "height": 204
        },
        "outputId": "fa030849-b7e0-4c4a-b801-d8e4d68d94ce"
      },
      "source": [
        "w1 = torch.zeros(1,requires_grad=True)\n",
        "w2 = torch.zeros(1,requires_grad=True)\n",
        "w3 = torch.zeros(1,requires_grad=True)\n",
        "w4 = torch.zeros(1,requires_grad=True)\n",
        "\n",
        "b = torch.zeros(1,requires_grad=True)\n",
        "\n",
        "optimizer = optim.SGD([w1,w2,w3,w4,b],lr=0.000005) \n",
        "\n",
        "nb_epochs = 100000\n",
        "\n",
        "for epoch in range(nb_epochs + 1):\n",
        "    hypothesis = x1_train*w1+x2_train*w2+x3_train*w3+x4_train*w4+b\n",
        "    cost = torch.mean((hypothesis-y_train) **2)\n",
        "    \n",
        "    #옵티마이저 초기화\n",
        "    optimizer.zero_grad()\n",
        "    # cost 계산 \n",
        "    cost.backward()\n",
        "    # 옵티마이저 갱신 \n",
        "    optimizer.step()\n",
        "\n",
        "    if epoch % 10000 == 0:\n",
        "      print('epoch {:4d}/{} w1:{:.3f} w2:{:.3f} w3:{:.3f} w4:{:.3f} b:{:.3f} cost:{:.6f}'.format(\n",
        "          epoch,nb_epochs,w1.item(),w2.item(),w3.item(),w4.item(),b.item(),cost.item()\n",
        "      ))\n",
        "\n",
        "\n"
      ],
      "execution_count": 5,
      "outputs": [
        {
          "output_type": "stream",
          "text": [
            "epoch    0/100000 w1:0.446 w2:0.293 w3:0.624 w4:0.118 b:0.033 cost:12610017.000000\n",
            "epoch 10000/100000 w1:9.725 w2:-187.083 w3:233.502 w4:36.150 b:49.648 cost:2299145.500000\n",
            "epoch 20000/100000 w1:1.105 w2:-205.637 w3:249.993 w4:40.384 b:68.384 cost:2271455.250000\n",
            "epoch 30000/100000 w1:-3.989 w2:-204.210 w3:252.458 w4:40.599 b:84.330 cost:2265627.250000\n",
            "epoch 40000/100000 w1:-8.690 w2:-200.894 w3:253.554 w4:40.427 b:99.918 cost:2260081.500000\n",
            "epoch 50000/100000 w1:-13.268 w2:-197.435 w3:254.479 w4:40.216 b:115.384 cost:2254620.250000\n",
            "epoch 60000/100000 w1:-17.777 w2:-194.041 w3:255.395 w4:40.007 b:130.739 cost:2249243.250000\n",
            "epoch 70000/100000 w1:-22.237 w2:-190.667 w3:256.288 w4:39.798 b:145.998 cost:2243940.000000\n",
            "epoch 80000/100000 w1:-26.632 w2:-187.310 w3:257.143 w4:39.589 b:161.150 cost:2238715.500000\n",
            "epoch 90000/100000 w1:-30.972 w2:-183.965 w3:257.965 w4:39.377 b:176.256 cost:2233548.750000\n",
            "epoch 100000/100000 w1:-35.236 w2:-180.701 w3:258.780 w4:39.173 b:191.212 cost:2228475.000000\n"
          ],
          "name": "stdout"
        }
      ]
    },
    {
      "cell_type": "markdown",
      "metadata": {
        "id": "9Zne3dhFwymh",
        "colab_type": "text"
      },
      "source": [
        "[3] 데이터 예측\n"
      ]
    },
    {
      "cell_type": "code",
      "metadata": {
        "id": "XiO7vAcgwyYV",
        "colab_type": "code",
        "colab": {
          "base_uri": "https://localhost:8080/",
          "height": 34
        },
        "outputId": "4c01bdc1-5808-49c9-d285-2e7d03b3be8c"
      },
      "source": [
        "\n",
        "#평균 온도 최저 온도 최고 온도 강수량 : -2.7 / : -6.6 / : 2.0 / : 0.1\n",
        "print(-2.7*w1+-6.6*w2+2.0*w3+0.1*w4+b) # 가격 예측 결과  : 2000.4521"
      ],
      "execution_count": 6,
      "outputs": [
        {
          "output_type": "stream",
          "text": [
            "tensor([2000.4521], grad_fn=<AddBackward0>)\n"
          ],
          "name": "stdout"
        }
      ]
    }
  ]
}